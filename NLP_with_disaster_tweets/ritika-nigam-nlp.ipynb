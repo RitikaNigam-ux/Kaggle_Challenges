{
 "cells": [
  {
   "cell_type": "code",
   "execution_count": 1,
   "id": "0713258a",
   "metadata": {
    "_cell_guid": "b1076dfc-b9ad-4769-8c92-a6c4dae69d19",
    "_uuid": "8f2839f25d086af736a60e9eeb907d3b93b6e0e5",
    "execution": {
     "iopub.execute_input": "2025-03-01T01:08:32.575807Z",
     "iopub.status.busy": "2025-03-01T01:08:32.575455Z",
     "iopub.status.idle": "2025-03-01T01:08:33.524772Z",
     "shell.execute_reply": "2025-03-01T01:08:33.523521Z"
    },
    "papermill": {
     "duration": 0.956147,
     "end_time": "2025-03-01T01:08:33.526652",
     "exception": false,
     "start_time": "2025-03-01T01:08:32.570505",
     "status": "completed"
    },
    "tags": []
   },
   "outputs": [
    {
     "name": "stdout",
     "output_type": "stream",
     "text": [
      "/kaggle/input/nlp-getting-started/sample_submission.csv\n",
      "/kaggle/input/nlp-getting-started/train.csv\n",
      "/kaggle/input/nlp-getting-started/test.csv\n"
     ]
    }
   ],
   "source": [
    "# This Python 3 environment comes with many helpful analytics libraries installed\n",
    "# It is defined by the kaggle/python Docker image: https://github.com/kaggle/docker-python\n",
    "# For example, here's several helpful packages to load\n",
    "\n",
    "import numpy as np # linear algebra\n",
    "import pandas as pd # data processing, CSV file I/O (e.g. pd.read_csv)\n",
    "\n",
    "# Input data files are available in the read-only \"../input/\" directory\n",
    "# For example, running this (by clicking run or pressing Shift+Enter) will list all files under the input directory\n",
    "\n",
    "import os\n",
    "for dirname, _, filenames in os.walk('/kaggle/input'):\n",
    "    for filename in filenames:\n",
    "        print(os.path.join(dirname, filename))\n",
    "\n",
    "# You can write up to 20GB to the current directory (/kaggle/working/) that gets preserved as output when you create a version using \"Save & Run All\" \n",
    "# You can also write temporary files to /kaggle/temp/, but they won't be saved outside of the current session"
   ]
  },
  {
   "cell_type": "code",
   "execution_count": 2,
   "id": "c28b239c",
   "metadata": {
    "execution": {
     "iopub.execute_input": "2025-03-01T01:08:33.535600Z",
     "iopub.status.busy": "2025-03-01T01:08:33.535110Z",
     "iopub.status.idle": "2025-03-01T01:08:33.638674Z",
     "shell.execute_reply": "2025-03-01T01:08:33.637146Z"
    },
    "papermill": {
     "duration": 0.110143,
     "end_time": "2025-03-01T01:08:33.640750",
     "exception": false,
     "start_time": "2025-03-01T01:08:33.530607",
     "status": "completed"
    },
    "tags": []
   },
   "outputs": [],
   "source": [
    "train_df = pd.read_csv('/kaggle/input/nlp-getting-started/train.csv')\n",
    "test_df = pd.read_csv('/kaggle/input/nlp-getting-started/test.csv')\n"
   ]
  },
  {
   "cell_type": "code",
   "execution_count": 3,
   "id": "b7b47219",
   "metadata": {
    "execution": {
     "iopub.execute_input": "2025-03-01T01:08:33.649216Z",
     "iopub.status.busy": "2025-03-01T01:08:33.648827Z",
     "iopub.status.idle": "2025-03-01T01:08:33.677855Z",
     "shell.execute_reply": "2025-03-01T01:08:33.676743Z"
    },
    "papermill": {
     "duration": 0.035379,
     "end_time": "2025-03-01T01:08:33.679789",
     "exception": false,
     "start_time": "2025-03-01T01:08:33.644410",
     "status": "completed"
    },
    "tags": []
   },
   "outputs": [
    {
     "data": {
      "text/html": [
       "<div>\n",
       "<style scoped>\n",
       "    .dataframe tbody tr th:only-of-type {\n",
       "        vertical-align: middle;\n",
       "    }\n",
       "\n",
       "    .dataframe tbody tr th {\n",
       "        vertical-align: top;\n",
       "    }\n",
       "\n",
       "    .dataframe thead th {\n",
       "        text-align: right;\n",
       "    }\n",
       "</style>\n",
       "<table border=\"1\" class=\"dataframe\">\n",
       "  <thead>\n",
       "    <tr style=\"text-align: right;\">\n",
       "      <th></th>\n",
       "      <th>id</th>\n",
       "      <th>keyword</th>\n",
       "      <th>location</th>\n",
       "      <th>text</th>\n",
       "      <th>target</th>\n",
       "    </tr>\n",
       "  </thead>\n",
       "  <tbody>\n",
       "    <tr>\n",
       "      <th>0</th>\n",
       "      <td>1</td>\n",
       "      <td>NaN</td>\n",
       "      <td>NaN</td>\n",
       "      <td>Our Deeds are the Reason of this #earthquake M...</td>\n",
       "      <td>1</td>\n",
       "    </tr>\n",
       "    <tr>\n",
       "      <th>1</th>\n",
       "      <td>4</td>\n",
       "      <td>NaN</td>\n",
       "      <td>NaN</td>\n",
       "      <td>Forest fire near La Ronge Sask. Canada</td>\n",
       "      <td>1</td>\n",
       "    </tr>\n",
       "    <tr>\n",
       "      <th>2</th>\n",
       "      <td>5</td>\n",
       "      <td>NaN</td>\n",
       "      <td>NaN</td>\n",
       "      <td>All residents asked to 'shelter in place' are ...</td>\n",
       "      <td>1</td>\n",
       "    </tr>\n",
       "    <tr>\n",
       "      <th>3</th>\n",
       "      <td>6</td>\n",
       "      <td>NaN</td>\n",
       "      <td>NaN</td>\n",
       "      <td>13,000 people receive #wildfires evacuation or...</td>\n",
       "      <td>1</td>\n",
       "    </tr>\n",
       "    <tr>\n",
       "      <th>4</th>\n",
       "      <td>7</td>\n",
       "      <td>NaN</td>\n",
       "      <td>NaN</td>\n",
       "      <td>Just got sent this photo from Ruby #Alaska as ...</td>\n",
       "      <td>1</td>\n",
       "    </tr>\n",
       "  </tbody>\n",
       "</table>\n",
       "</div>"
      ],
      "text/plain": [
       "   id keyword location                                               text  \\\n",
       "0   1     NaN      NaN  Our Deeds are the Reason of this #earthquake M...   \n",
       "1   4     NaN      NaN             Forest fire near La Ronge Sask. Canada   \n",
       "2   5     NaN      NaN  All residents asked to 'shelter in place' are ...   \n",
       "3   6     NaN      NaN  13,000 people receive #wildfires evacuation or...   \n",
       "4   7     NaN      NaN  Just got sent this photo from Ruby #Alaska as ...   \n",
       "\n",
       "   target  \n",
       "0       1  \n",
       "1       1  \n",
       "2       1  \n",
       "3       1  \n",
       "4       1  "
      ]
     },
     "execution_count": 3,
     "metadata": {},
     "output_type": "execute_result"
    }
   ],
   "source": [
    "train_df.head()"
   ]
  },
  {
   "cell_type": "code",
   "execution_count": 4,
   "id": "bd94b8d4",
   "metadata": {
    "execution": {
     "iopub.execute_input": "2025-03-01T01:08:33.688965Z",
     "iopub.status.busy": "2025-03-01T01:08:33.688619Z",
     "iopub.status.idle": "2025-03-01T01:08:33.699685Z",
     "shell.execute_reply": "2025-03-01T01:08:33.698599Z"
    },
    "papermill": {
     "duration": 0.017549,
     "end_time": "2025-03-01T01:08:33.701415",
     "exception": false,
     "start_time": "2025-03-01T01:08:33.683866",
     "status": "completed"
    },
    "tags": []
   },
   "outputs": [
    {
     "data": {
      "text/html": [
       "<div>\n",
       "<style scoped>\n",
       "    .dataframe tbody tr th:only-of-type {\n",
       "        vertical-align: middle;\n",
       "    }\n",
       "\n",
       "    .dataframe tbody tr th {\n",
       "        vertical-align: top;\n",
       "    }\n",
       "\n",
       "    .dataframe thead th {\n",
       "        text-align: right;\n",
       "    }\n",
       "</style>\n",
       "<table border=\"1\" class=\"dataframe\">\n",
       "  <thead>\n",
       "    <tr style=\"text-align: right;\">\n",
       "      <th></th>\n",
       "      <th>id</th>\n",
       "      <th>keyword</th>\n",
       "      <th>location</th>\n",
       "      <th>text</th>\n",
       "    </tr>\n",
       "  </thead>\n",
       "  <tbody>\n",
       "    <tr>\n",
       "      <th>0</th>\n",
       "      <td>0</td>\n",
       "      <td>NaN</td>\n",
       "      <td>NaN</td>\n",
       "      <td>Just happened a terrible car crash</td>\n",
       "    </tr>\n",
       "    <tr>\n",
       "      <th>1</th>\n",
       "      <td>2</td>\n",
       "      <td>NaN</td>\n",
       "      <td>NaN</td>\n",
       "      <td>Heard about #earthquake is different cities, s...</td>\n",
       "    </tr>\n",
       "    <tr>\n",
       "      <th>2</th>\n",
       "      <td>3</td>\n",
       "      <td>NaN</td>\n",
       "      <td>NaN</td>\n",
       "      <td>there is a forest fire at spot pond, geese are...</td>\n",
       "    </tr>\n",
       "    <tr>\n",
       "      <th>3</th>\n",
       "      <td>9</td>\n",
       "      <td>NaN</td>\n",
       "      <td>NaN</td>\n",
       "      <td>Apocalypse lighting. #Spokane #wildfires</td>\n",
       "    </tr>\n",
       "    <tr>\n",
       "      <th>4</th>\n",
       "      <td>11</td>\n",
       "      <td>NaN</td>\n",
       "      <td>NaN</td>\n",
       "      <td>Typhoon Soudelor kills 28 in China and Taiwan</td>\n",
       "    </tr>\n",
       "  </tbody>\n",
       "</table>\n",
       "</div>"
      ],
      "text/plain": [
       "   id keyword location                                               text\n",
       "0   0     NaN      NaN                 Just happened a terrible car crash\n",
       "1   2     NaN      NaN  Heard about #earthquake is different cities, s...\n",
       "2   3     NaN      NaN  there is a forest fire at spot pond, geese are...\n",
       "3   9     NaN      NaN           Apocalypse lighting. #Spokane #wildfires\n",
       "4  11     NaN      NaN      Typhoon Soudelor kills 28 in China and Taiwan"
      ]
     },
     "execution_count": 4,
     "metadata": {},
     "output_type": "execute_result"
    }
   ],
   "source": [
    "test_df.head()"
   ]
  },
  {
   "cell_type": "code",
   "execution_count": 5,
   "id": "cf04667a",
   "metadata": {
    "execution": {
     "iopub.execute_input": "2025-03-01T01:08:33.710305Z",
     "iopub.status.busy": "2025-03-01T01:08:33.709927Z",
     "iopub.status.idle": "2025-03-01T01:08:33.726356Z",
     "shell.execute_reply": "2025-03-01T01:08:33.725204Z"
    },
    "papermill": {
     "duration": 0.022915,
     "end_time": "2025-03-01T01:08:33.728164",
     "exception": false,
     "start_time": "2025-03-01T01:08:33.705249",
     "status": "completed"
    },
    "tags": []
   },
   "outputs": [
    {
     "data": {
      "text/html": [
       "<div>\n",
       "<style scoped>\n",
       "    .dataframe tbody tr th:only-of-type {\n",
       "        vertical-align: middle;\n",
       "    }\n",
       "\n",
       "    .dataframe tbody tr th {\n",
       "        vertical-align: top;\n",
       "    }\n",
       "\n",
       "    .dataframe thead th {\n",
       "        text-align: right;\n",
       "    }\n",
       "</style>\n",
       "<table border=\"1\" class=\"dataframe\">\n",
       "  <thead>\n",
       "    <tr style=\"text-align: right;\">\n",
       "      <th></th>\n",
       "      <th>id</th>\n",
       "      <th>target</th>\n",
       "    </tr>\n",
       "  </thead>\n",
       "  <tbody>\n",
       "    <tr>\n",
       "      <th>0</th>\n",
       "      <td>0</td>\n",
       "      <td>0</td>\n",
       "    </tr>\n",
       "    <tr>\n",
       "      <th>1</th>\n",
       "      <td>2</td>\n",
       "      <td>0</td>\n",
       "    </tr>\n",
       "    <tr>\n",
       "      <th>2</th>\n",
       "      <td>3</td>\n",
       "      <td>0</td>\n",
       "    </tr>\n",
       "    <tr>\n",
       "      <th>3</th>\n",
       "      <td>9</td>\n",
       "      <td>0</td>\n",
       "    </tr>\n",
       "    <tr>\n",
       "      <th>4</th>\n",
       "      <td>11</td>\n",
       "      <td>0</td>\n",
       "    </tr>\n",
       "  </tbody>\n",
       "</table>\n",
       "</div>"
      ],
      "text/plain": [
       "   id  target\n",
       "0   0       0\n",
       "1   2       0\n",
       "2   3       0\n",
       "3   9       0\n",
       "4  11       0"
      ]
     },
     "execution_count": 5,
     "metadata": {},
     "output_type": "execute_result"
    }
   ],
   "source": [
    "submission = pd.read_csv('/kaggle/input/nlp-getting-started/sample_submission.csv')\n",
    "submission.head()"
   ]
  },
  {
   "cell_type": "code",
   "execution_count": 6,
   "id": "afcb7841",
   "metadata": {
    "execution": {
     "iopub.execute_input": "2025-03-01T01:08:33.737692Z",
     "iopub.status.busy": "2025-03-01T01:08:33.737349Z",
     "iopub.status.idle": "2025-03-01T01:08:33.748771Z",
     "shell.execute_reply": "2025-03-01T01:08:33.747515Z"
    },
    "papermill": {
     "duration": 0.018081,
     "end_time": "2025-03-01T01:08:33.750526",
     "exception": false,
     "start_time": "2025-03-01T01:08:33.732445",
     "status": "completed"
    },
    "tags": []
   },
   "outputs": [
    {
     "data": {
      "text/plain": [
       "id             0\n",
       "keyword       61\n",
       "location    2533\n",
       "text           0\n",
       "target         0\n",
       "dtype: int64"
      ]
     },
     "execution_count": 6,
     "metadata": {},
     "output_type": "execute_result"
    }
   ],
   "source": [
    "train_df.isnull().sum()"
   ]
  },
  {
   "cell_type": "code",
   "execution_count": 7,
   "id": "77a89ee1",
   "metadata": {
    "execution": {
     "iopub.execute_input": "2025-03-01T01:08:33.760474Z",
     "iopub.status.busy": "2025-03-01T01:08:33.760026Z",
     "iopub.status.idle": "2025-03-01T01:08:33.789947Z",
     "shell.execute_reply": "2025-03-01T01:08:33.788741Z"
    },
    "papermill": {
     "duration": 0.036561,
     "end_time": "2025-03-01T01:08:33.791536",
     "exception": false,
     "start_time": "2025-03-01T01:08:33.754975",
     "status": "completed"
    },
    "tags": []
   },
   "outputs": [
    {
     "name": "stdout",
     "output_type": "stream",
     "text": [
      "<class 'pandas.core.frame.DataFrame'>\n",
      "RangeIndex: 7613 entries, 0 to 7612\n",
      "Data columns (total 5 columns):\n",
      " #   Column    Non-Null Count  Dtype \n",
      "---  ------    --------------  ----- \n",
      " 0   id        7613 non-null   int64 \n",
      " 1   keyword   7552 non-null   object\n",
      " 2   location  5080 non-null   object\n",
      " 3   text      7613 non-null   object\n",
      " 4   target    7613 non-null   int64 \n",
      "dtypes: int64(2), object(3)\n",
      "memory usage: 297.5+ KB\n"
     ]
    }
   ],
   "source": [
    "train_df.info()"
   ]
  },
  {
   "cell_type": "code",
   "execution_count": 8,
   "id": "ea16e519",
   "metadata": {
    "execution": {
     "iopub.execute_input": "2025-03-01T01:08:33.800966Z",
     "iopub.status.busy": "2025-03-01T01:08:33.800650Z",
     "iopub.status.idle": "2025-03-01T01:08:33.810600Z",
     "shell.execute_reply": "2025-03-01T01:08:33.809421Z"
    },
    "papermill": {
     "duration": 0.017033,
     "end_time": "2025-03-01T01:08:33.812630",
     "exception": false,
     "start_time": "2025-03-01T01:08:33.795597",
     "status": "completed"
    },
    "tags": []
   },
   "outputs": [],
   "source": [
    "train_df['keyword'] = train_df['keyword'].fillna('')\n",
    "train_df['location'] = train_df['location'].fillna('')\n",
    "test_df['keyword'] = test_df['keyword'].fillna('')\n",
    "test_df['location'] = test_df['location'].fillna('')"
   ]
  },
  {
   "cell_type": "code",
   "execution_count": 9,
   "id": "2b28b0f1",
   "metadata": {
    "execution": {
     "iopub.execute_input": "2025-03-01T01:08:33.822006Z",
     "iopub.status.busy": "2025-03-01T01:08:33.821630Z",
     "iopub.status.idle": "2025-03-01T01:08:33.831004Z",
     "shell.execute_reply": "2025-03-01T01:08:33.829893Z"
    },
    "papermill": {
     "duration": 0.016081,
     "end_time": "2025-03-01T01:08:33.832741",
     "exception": false,
     "start_time": "2025-03-01T01:08:33.816660",
     "status": "completed"
    },
    "tags": []
   },
   "outputs": [
    {
     "data": {
      "text/plain": [
       "id          0\n",
       "keyword     0\n",
       "location    0\n",
       "text        0\n",
       "target      0\n",
       "dtype: int64"
      ]
     },
     "execution_count": 9,
     "metadata": {},
     "output_type": "execute_result"
    }
   ],
   "source": [
    "train_df.isnull().sum()"
   ]
  },
  {
   "cell_type": "code",
   "execution_count": 10,
   "id": "43add679",
   "metadata": {
    "execution": {
     "iopub.execute_input": "2025-03-01T01:08:33.842613Z",
     "iopub.status.busy": "2025-03-01T01:08:33.842238Z",
     "iopub.status.idle": "2025-03-01T01:08:35.788532Z",
     "shell.execute_reply": "2025-03-01T01:08:35.787601Z"
    },
    "papermill": {
     "duration": 1.953486,
     "end_time": "2025-03-01T01:08:35.790505",
     "exception": false,
     "start_time": "2025-03-01T01:08:33.837019",
     "status": "completed"
    },
    "tags": []
   },
   "outputs": [],
   "source": [
    "from sklearn.feature_extraction.text import TfidfVectorizer\n",
    "from sklearn.linear_model import LogisticRegression\n",
    "\n",
    "train_df['text'] = train_df['text'].astype(str)\n",
    "test_df['text'] = test_df['text'].astype(str)\n",
    "\n",
    "vectorizer = TfidfVectorizer(stop_words = 'english')\n",
    "X_train = vectorizer.fit_transform(train_df['text'])\n",
    "X_test = vectorizer.transform(test_df['text'])\n",
    "\n",
    "Y = train_df['target']\n",
    "model = LogisticRegression()\n",
    "model.fit(X_train, Y)\n",
    "y_pred = model.predict(X_test)"
   ]
  },
  {
   "cell_type": "code",
   "execution_count": 11,
   "id": "86ad00f6",
   "metadata": {
    "execution": {
     "iopub.execute_input": "2025-03-01T01:08:35.800010Z",
     "iopub.status.busy": "2025-03-01T01:08:35.799548Z",
     "iopub.status.idle": "2025-03-01T01:08:35.812989Z",
     "shell.execute_reply": "2025-03-01T01:08:35.812008Z"
    },
    "papermill": {
     "duration": 0.019965,
     "end_time": "2025-03-01T01:08:35.814643",
     "exception": false,
     "start_time": "2025-03-01T01:08:35.794678",
     "status": "completed"
    },
    "tags": []
   },
   "outputs": [
    {
     "name": "stdout",
     "output_type": "stream",
     "text": [
      "Output stored in submission.csv\n"
     ]
    }
   ],
   "source": [
    "output = pd.DataFrame({'id': test_df.id, 'target': y_pred})\n",
    "output.to_csv('submission.csv', index = False)\n",
    "print ('Output stored in submission.csv')"
   ]
  },
  {
   "cell_type": "code",
   "execution_count": 12,
   "id": "95ce53ce",
   "metadata": {
    "execution": {
     "iopub.execute_input": "2025-03-01T01:08:35.824234Z",
     "iopub.status.busy": "2025-03-01T01:08:35.823848Z",
     "iopub.status.idle": "2025-03-01T01:08:35.835024Z",
     "shell.execute_reply": "2025-03-01T01:08:35.834012Z"
    },
    "papermill": {
     "duration": 0.017823,
     "end_time": "2025-03-01T01:08:35.836688",
     "exception": false,
     "start_time": "2025-03-01T01:08:35.818865",
     "status": "completed"
    },
    "tags": []
   },
   "outputs": [
    {
     "data": {
      "text/html": [
       "<div>\n",
       "<style scoped>\n",
       "    .dataframe tbody tr th:only-of-type {\n",
       "        vertical-align: middle;\n",
       "    }\n",
       "\n",
       "    .dataframe tbody tr th {\n",
       "        vertical-align: top;\n",
       "    }\n",
       "\n",
       "    .dataframe thead th {\n",
       "        text-align: right;\n",
       "    }\n",
       "</style>\n",
       "<table border=\"1\" class=\"dataframe\">\n",
       "  <thead>\n",
       "    <tr style=\"text-align: right;\">\n",
       "      <th></th>\n",
       "      <th>id</th>\n",
       "      <th>target</th>\n",
       "    </tr>\n",
       "  </thead>\n",
       "  <tbody>\n",
       "    <tr>\n",
       "      <th>0</th>\n",
       "      <td>0</td>\n",
       "      <td>1</td>\n",
       "    </tr>\n",
       "    <tr>\n",
       "      <th>1</th>\n",
       "      <td>2</td>\n",
       "      <td>1</td>\n",
       "    </tr>\n",
       "    <tr>\n",
       "      <th>2</th>\n",
       "      <td>3</td>\n",
       "      <td>1</td>\n",
       "    </tr>\n",
       "    <tr>\n",
       "      <th>3</th>\n",
       "      <td>9</td>\n",
       "      <td>0</td>\n",
       "    </tr>\n",
       "    <tr>\n",
       "      <th>4</th>\n",
       "      <td>11</td>\n",
       "      <td>1</td>\n",
       "    </tr>\n",
       "  </tbody>\n",
       "</table>\n",
       "</div>"
      ],
      "text/plain": [
       "   id  target\n",
       "0   0       1\n",
       "1   2       1\n",
       "2   3       1\n",
       "3   9       0\n",
       "4  11       1"
      ]
     },
     "execution_count": 12,
     "metadata": {},
     "output_type": "execute_result"
    }
   ],
   "source": [
    "sub1 = pd.read_csv('submission.csv')\n",
    "sub1.head()"
   ]
  }
 ],
 "metadata": {
  "kaggle": {
   "accelerator": "none",
   "dataSources": [
    {
     "databundleVersionId": 869809,
     "sourceId": 17777,
     "sourceType": "competition"
    }
   ],
   "dockerImageVersionId": 30918,
   "isGpuEnabled": false,
   "isInternetEnabled": true,
   "language": "python",
   "sourceType": "notebook"
  },
  "kernelspec": {
   "display_name": "Python 3",
   "language": "python",
   "name": "python3"
  },
  "language_info": {
   "codemirror_mode": {
    "name": "ipython",
    "version": 3
   },
   "file_extension": ".py",
   "mimetype": "text/x-python",
   "name": "python",
   "nbconvert_exporter": "python",
   "pygments_lexer": "ipython3",
   "version": "3.10.12"
  },
  "papermill": {
   "default_parameters": {},
   "duration": 6.878101,
   "end_time": "2025-03-01T01:08:36.561858",
   "environment_variables": {},
   "exception": null,
   "input_path": "__notebook__.ipynb",
   "output_path": "__notebook__.ipynb",
   "parameters": {},
   "start_time": "2025-03-01T01:08:29.683757",
   "version": "2.6.0"
  }
 },
 "nbformat": 4,
 "nbformat_minor": 5
}
